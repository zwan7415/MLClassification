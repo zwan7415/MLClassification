{
 "cells": [
  {
   "cell_type": "code",
   "execution_count": 182,
   "id": "9af0d3ab",
   "metadata": {},
   "outputs": [],
   "source": [
    "#import libraries\n",
    "import pandas as pd\n",
    "import numpy as np\n",
    "\n",
    "#import plot libraries\n",
    "import matplotlib as mpl\n",
    "import matplotlib.pyplot as plt\n",
    "import seaborn as sns\n",
    "\n",
    "import warnings\n",
    "warnings.filterwarnings(\"ignore\")\n",
    "from sklearn.preprocessing import OneHotEncoder"
   ]
  },
  {
   "cell_type": "code",
   "execution_count": 183,
   "id": "c224ea4e",
   "metadata": {},
   "outputs": [],
   "source": [
    "#loading datasets\n",
    "clients = pd.read_csv('clients.csv')\n",
    "customer = pd.read_csv('customers.csv')\n",
    "messages = pd.read_csv('messages.csv')"
   ]
  },
  {
   "cell_type": "markdown",
   "id": "52198704",
   "metadata": {},
   "source": [
    "**File 1: clients dataset**"
   ]
  },
  {
   "cell_type": "code",
   "execution_count": 184,
   "id": "dcbb833c",
   "metadata": {},
   "outputs": [
    {
     "name": "stdout",
     "output_type": "stream",
     "text": [
      "True\n",
      "(8, 4)\n",
      "Empty DataFrame\n",
      "Columns: [id, name, product_type, country]\n",
      "Index: []\n",
      "<class 'pandas.core.frame.DataFrame'>\n",
      "RangeIndex: 8 entries, 0 to 7\n",
      "Data columns (total 4 columns):\n",
      " #   Column        Non-Null Count  Dtype \n",
      "---  ------        --------------  ----- \n",
      " 0   id            8 non-null      object\n",
      " 1   name          8 non-null      object\n",
      " 2   product_type  8 non-null      object\n",
      " 3   country       8 non-null      object\n",
      "dtypes: object(4)\n",
      "memory usage: 384.0+ bytes\n"
     ]
    }
   ],
   "source": [
    "#file 1 inspection\n",
    "print(clients.columns.is_unique)\n",
    "print(clients.shape)\n",
    "print(clients[clients.duplicated()== True])\n",
    "clients.info()"
   ]
  },
  {
   "cell_type": "code",
   "execution_count": 185,
   "id": "81b8396c",
   "metadata": {},
   "outputs": [
    {
     "data": {
      "text/html": [
       "<div>\n",
       "<style scoped>\n",
       "    .dataframe tbody tr th:only-of-type {\n",
       "        vertical-align: middle;\n",
       "    }\n",
       "\n",
       "    .dataframe tbody tr th {\n",
       "        vertical-align: top;\n",
       "    }\n",
       "\n",
       "    .dataframe thead th {\n",
       "        text-align: right;\n",
       "    }\n",
       "</style>\n",
       "<table border=\"1\" class=\"dataframe\">\n",
       "  <thead>\n",
       "    <tr style=\"text-align: right;\">\n",
       "      <th></th>\n",
       "      <th>client_id</th>\n",
       "      <th>name</th>\n",
       "      <th>product_type</th>\n",
       "      <th>country</th>\n",
       "    </tr>\n",
       "  </thead>\n",
       "  <tbody>\n",
       "    <tr>\n",
       "      <th>count</th>\n",
       "      <td>8</td>\n",
       "      <td>8</td>\n",
       "      <td>8</td>\n",
       "      <td>8</td>\n",
       "    </tr>\n",
       "    <tr>\n",
       "      <th>unique</th>\n",
       "      <td>8</td>\n",
       "      <td>8</td>\n",
       "      <td>3</td>\n",
       "      <td>3</td>\n",
       "    </tr>\n",
       "    <tr>\n",
       "      <th>top</th>\n",
       "      <td>cfcd208495d565ef66e7dff9f98764da</td>\n",
       "      <td>SwanPay</td>\n",
       "      <td>BNPL</td>\n",
       "      <td>UK</td>\n",
       "    </tr>\n",
       "    <tr>\n",
       "      <th>freq</th>\n",
       "      <td>1</td>\n",
       "      <td>1</td>\n",
       "      <td>3</td>\n",
       "      <td>3</td>\n",
       "    </tr>\n",
       "  </tbody>\n",
       "</table>\n",
       "</div>"
      ],
      "text/plain": [
       "                               client_id     name product_type country\n",
       "count                                  8        8            8       8\n",
       "unique                                 8        8            3       3\n",
       "top     cfcd208495d565ef66e7dff9f98764da  SwanPay         BNPL      UK\n",
       "freq                                   1        1            3       3"
      ]
     },
     "execution_count": 185,
     "metadata": {},
     "output_type": "execute_result"
    }
   ],
   "source": [
    "#change column name,prepare for datasets join\n",
    "clients = clients.rename(\n",
    "    columns = {'id':'client_id'})\n",
    "clients.describe()"
   ]
  },
  {
   "cell_type": "markdown",
   "id": "71e78bee",
   "metadata": {},
   "source": [
    "Key insight: \n",
    "\n",
    "--no missing values in the dataset\n",
    "--all object features\n",
    "--all columns are unique, no duplicate rows identified"
   ]
  },
  {
   "cell_type": "code",
   "execution_count": 186,
   "id": "1fceafb8",
   "metadata": {},
   "outputs": [
    {
     "data": {
      "text/html": [
       "<div>\n",
       "<style scoped>\n",
       "    .dataframe tbody tr th:only-of-type {\n",
       "        vertical-align: middle;\n",
       "    }\n",
       "\n",
       "    .dataframe tbody tr th {\n",
       "        vertical-align: top;\n",
       "    }\n",
       "\n",
       "    .dataframe thead th {\n",
       "        text-align: right;\n",
       "    }\n",
       "</style>\n",
       "<table border=\"1\" class=\"dataframe\">\n",
       "  <thead>\n",
       "    <tr style=\"text-align: right;\">\n",
       "      <th></th>\n",
       "      <th>client_id</th>\n",
       "      <th>name</th>\n",
       "      <th>product_type</th>\n",
       "      <th>country</th>\n",
       "    </tr>\n",
       "  </thead>\n",
       "  <tbody>\n",
       "    <tr>\n",
       "      <th>0</th>\n",
       "      <td>cfcd208495d565ef66e7dff9f98764da</td>\n",
       "      <td>SwanPay</td>\n",
       "      <td>BNPL</td>\n",
       "      <td>UK</td>\n",
       "    </tr>\n",
       "    <tr>\n",
       "      <th>1</th>\n",
       "      <td>c4ca4238a0b923820dcc509a6f75849b</td>\n",
       "      <td>Fox Energy</td>\n",
       "      <td>Energy</td>\n",
       "      <td>UK</td>\n",
       "    </tr>\n",
       "    <tr>\n",
       "      <th>2</th>\n",
       "      <td>c81e728d9d4c2f636f067f89cc14862c</td>\n",
       "      <td>Badgerbank</td>\n",
       "      <td>CreditCard</td>\n",
       "      <td>UK</td>\n",
       "    </tr>\n",
       "    <tr>\n",
       "      <th>3</th>\n",
       "      <td>eccbc87e4b5ce2fe28308fd9f2a7baf3</td>\n",
       "      <td>KiwiPay</td>\n",
       "      <td>BNPL</td>\n",
       "      <td>NZ</td>\n",
       "    </tr>\n",
       "    <tr>\n",
       "      <th>4</th>\n",
       "      <td>a87ff679a2f3e71d9181a67b7542122c</td>\n",
       "      <td>Skink Solar</td>\n",
       "      <td>Energy</td>\n",
       "      <td>NZ</td>\n",
       "    </tr>\n",
       "  </tbody>\n",
       "</table>\n",
       "</div>"
      ],
      "text/plain": [
       "                          client_id         name product_type country\n",
       "0  cfcd208495d565ef66e7dff9f98764da      SwanPay         BNPL      UK\n",
       "1  c4ca4238a0b923820dcc509a6f75849b   Fox Energy       Energy      UK\n",
       "2  c81e728d9d4c2f636f067f89cc14862c   Badgerbank   CreditCard      UK\n",
       "3  eccbc87e4b5ce2fe28308fd9f2a7baf3      KiwiPay         BNPL      NZ\n",
       "4  a87ff679a2f3e71d9181a67b7542122c  Skink Solar       Energy      NZ"
      ]
     },
     "execution_count": 186,
     "metadata": {},
     "output_type": "execute_result"
    }
   ],
   "source": [
    "clients.head()"
   ]
  },
  {
   "cell_type": "markdown",
   "id": "db4a21a8",
   "metadata": {},
   "source": [
    "**File 2 : customer dataset**"
   ]
  },
  {
   "cell_type": "code",
   "execution_count": 187,
   "id": "708fda15",
   "metadata": {},
   "outputs": [
    {
     "name": "stdout",
     "output_type": "stream",
     "text": [
      "True\n",
      "(10000, 6)\n",
      "Empty DataFrame\n",
      "Columns: [id, client_id, gender, country, age, created_at]\n",
      "Index: []\n",
      "<class 'pandas.core.frame.DataFrame'>\n",
      "RangeIndex: 10000 entries, 0 to 9999\n",
      "Data columns (total 6 columns):\n",
      " #   Column      Non-Null Count  Dtype  \n",
      "---  ------      --------------  -----  \n",
      " 0   id          10000 non-null  object \n",
      " 1   client_id   10000 non-null  object \n",
      " 2   gender      7979 non-null   object \n",
      " 3   country     8058 non-null   object \n",
      " 4   age         8575 non-null   float64\n",
      " 5   created_at  10000 non-null  object \n",
      "dtypes: float64(1), object(5)\n",
      "memory usage: 468.9+ KB\n"
     ]
    }
   ],
   "source": [
    "#File 2 inspection\n",
    "print(customer.columns.is_unique)\n",
    "print(customer.shape)\n",
    "print(customer[customer.duplicated()==True])\n",
    "customer.info()"
   ]
  },
  {
   "cell_type": "code",
   "execution_count": 188,
   "id": "2e1af579",
   "metadata": {},
   "outputs": [
    {
     "data": {
      "text/html": [
       "<div>\n",
       "<style scoped>\n",
       "    .dataframe tbody tr th:only-of-type {\n",
       "        vertical-align: middle;\n",
       "    }\n",
       "\n",
       "    .dataframe tbody tr th {\n",
       "        vertical-align: top;\n",
       "    }\n",
       "\n",
       "    .dataframe thead th {\n",
       "        text-align: right;\n",
       "    }\n",
       "</style>\n",
       "<table border=\"1\" class=\"dataframe\">\n",
       "  <thead>\n",
       "    <tr style=\"text-align: right;\">\n",
       "      <th></th>\n",
       "      <th>age</th>\n",
       "    </tr>\n",
       "  </thead>\n",
       "  <tbody>\n",
       "    <tr>\n",
       "      <th>count</th>\n",
       "      <td>8575.000000</td>\n",
       "    </tr>\n",
       "    <tr>\n",
       "      <th>mean</th>\n",
       "      <td>40.950204</td>\n",
       "    </tr>\n",
       "    <tr>\n",
       "      <th>std</th>\n",
       "      <td>17.641473</td>\n",
       "    </tr>\n",
       "    <tr>\n",
       "      <th>min</th>\n",
       "      <td>18.000000</td>\n",
       "    </tr>\n",
       "    <tr>\n",
       "      <th>25%</th>\n",
       "      <td>25.000000</td>\n",
       "    </tr>\n",
       "    <tr>\n",
       "      <th>50%</th>\n",
       "      <td>38.000000</td>\n",
       "    </tr>\n",
       "    <tr>\n",
       "      <th>75%</th>\n",
       "      <td>52.000000</td>\n",
       "    </tr>\n",
       "    <tr>\n",
       "      <th>max</th>\n",
       "      <td>96.000000</td>\n",
       "    </tr>\n",
       "  </tbody>\n",
       "</table>\n",
       "</div>"
      ],
      "text/plain": [
       "               age\n",
       "count  8575.000000\n",
       "mean     40.950204\n",
       "std      17.641473\n",
       "min      18.000000\n",
       "25%      25.000000\n",
       "50%      38.000000\n",
       "75%      52.000000\n",
       "max      96.000000"
      ]
     },
     "execution_count": 188,
     "metadata": {},
     "output_type": "execute_result"
    }
   ],
   "source": [
    "customer.describe()"
   ]
  },
  {
   "cell_type": "markdown",
   "id": "fa86d673",
   "metadata": {},
   "source": [
    "Key insight:  \n",
    "\n",
    "-- missing values in the 'gender','country','age'\n",
    "--all object features but 'age'\n",
    "--all columns are unique, no duplicate rows identified"
   ]
  },
  {
   "cell_type": "code",
   "execution_count": 189,
   "id": "e82f787b",
   "metadata": {},
   "outputs": [
    {
     "data": {
      "text/html": [
       "<div>\n",
       "<style scoped>\n",
       "    .dataframe tbody tr th:only-of-type {\n",
       "        vertical-align: middle;\n",
       "    }\n",
       "\n",
       "    .dataframe tbody tr th {\n",
       "        vertical-align: top;\n",
       "    }\n",
       "\n",
       "    .dataframe thead th {\n",
       "        text-align: right;\n",
       "    }\n",
       "</style>\n",
       "<table border=\"1\" class=\"dataframe\">\n",
       "  <thead>\n",
       "    <tr style=\"text-align: right;\">\n",
       "      <th></th>\n",
       "      <th>id</th>\n",
       "      <th>client_id</th>\n",
       "      <th>gender</th>\n",
       "      <th>country</th>\n",
       "      <th>age</th>\n",
       "      <th>created_at</th>\n",
       "    </tr>\n",
       "  </thead>\n",
       "  <tbody>\n",
       "    <tr>\n",
       "      <th>0</th>\n",
       "      <td>a40ee72e10612613885de1208e1b9500</td>\n",
       "      <td>c4ca4238a0b923820dcc509a6f75849b</td>\n",
       "      <td>M</td>\n",
       "      <td>NaN</td>\n",
       "      <td>73.0</td>\n",
       "      <td>2021-01-01 00:10:23.616000+00:00</td>\n",
       "    </tr>\n",
       "    <tr>\n",
       "      <th>1</th>\n",
       "      <td>15c286543a1dbf6ab2c855747f751cb7</td>\n",
       "      <td>cfcd208495d565ef66e7dff9f98764da</td>\n",
       "      <td>NaN</td>\n",
       "      <td>NaN</td>\n",
       "      <td>27.0</td>\n",
       "      <td>2021-01-01 01:49:55.064000+00:00</td>\n",
       "    </tr>\n",
       "    <tr>\n",
       "      <th>2</th>\n",
       "      <td>f088f7d46f6d5d5b608bfc019e25e54b</td>\n",
       "      <td>1679091c5a880faf6fb5e6087eb1b2dc</td>\n",
       "      <td>F</td>\n",
       "      <td>CA</td>\n",
       "      <td>NaN</td>\n",
       "      <td>2021-01-01 01:56:54.809000+00:00</td>\n",
       "    </tr>\n",
       "    <tr>\n",
       "      <th>3</th>\n",
       "      <td>5074192370542d6bcb706b16aa85e116</td>\n",
       "      <td>8f14e45fceea167a5a36dedd4bea2543</td>\n",
       "      <td>M</td>\n",
       "      <td>CA</td>\n",
       "      <td>NaN</td>\n",
       "      <td>2021-01-01 02:09:55.996000+00:00</td>\n",
       "    </tr>\n",
       "    <tr>\n",
       "      <th>4</th>\n",
       "      <td>131f5ce2b70940714231349e3ef14b39</td>\n",
       "      <td>cfcd208495d565ef66e7dff9f98764da</td>\n",
       "      <td>M</td>\n",
       "      <td>UK</td>\n",
       "      <td>31.0</td>\n",
       "      <td>2021-01-01 02:35:24.169000+00:00</td>\n",
       "    </tr>\n",
       "  </tbody>\n",
       "</table>\n",
       "</div>"
      ],
      "text/plain": [
       "                                 id                         client_id gender  \\\n",
       "0  a40ee72e10612613885de1208e1b9500  c4ca4238a0b923820dcc509a6f75849b      M   \n",
       "1  15c286543a1dbf6ab2c855747f751cb7  cfcd208495d565ef66e7dff9f98764da    NaN   \n",
       "2  f088f7d46f6d5d5b608bfc019e25e54b  1679091c5a880faf6fb5e6087eb1b2dc      F   \n",
       "3  5074192370542d6bcb706b16aa85e116  8f14e45fceea167a5a36dedd4bea2543      M   \n",
       "4  131f5ce2b70940714231349e3ef14b39  cfcd208495d565ef66e7dff9f98764da      M   \n",
       "\n",
       "  country   age                        created_at  \n",
       "0     NaN  73.0  2021-01-01 00:10:23.616000+00:00  \n",
       "1     NaN  27.0  2021-01-01 01:49:55.064000+00:00  \n",
       "2      CA   NaN  2021-01-01 01:56:54.809000+00:00  \n",
       "3      CA   NaN  2021-01-01 02:09:55.996000+00:00  \n",
       "4      UK  31.0  2021-01-01 02:35:24.169000+00:00  "
      ]
     },
     "execution_count": 189,
     "metadata": {},
     "output_type": "execute_result"
    }
   ],
   "source": [
    "customer.head()"
   ]
  },
  {
   "cell_type": "code",
   "execution_count": 190,
   "id": "6e856a89",
   "metadata": {},
   "outputs": [],
   "source": [
    "#join file 1&2 on key 'client_id'\n",
    "client_customer = pd.merge(customer,clients,left_on=['client_id'], right_on=['client_id'], how = 'left')"
   ]
  },
  {
   "cell_type": "code",
   "execution_count": 191,
   "id": "bd6cf68b",
   "metadata": {},
   "outputs": [
    {
     "data": {
      "text/html": [
       "<div>\n",
       "<style scoped>\n",
       "    .dataframe tbody tr th:only-of-type {\n",
       "        vertical-align: middle;\n",
       "    }\n",
       "\n",
       "    .dataframe tbody tr th {\n",
       "        vertical-align: top;\n",
       "    }\n",
       "\n",
       "    .dataframe thead th {\n",
       "        text-align: right;\n",
       "    }\n",
       "</style>\n",
       "<table border=\"1\" class=\"dataframe\">\n",
       "  <thead>\n",
       "    <tr style=\"text-align: right;\">\n",
       "      <th></th>\n",
       "      <th>customer_id</th>\n",
       "      <th>client_id</th>\n",
       "      <th>gender</th>\n",
       "      <th>country_customer</th>\n",
       "      <th>age</th>\n",
       "      <th>created_at</th>\n",
       "      <th>client_name</th>\n",
       "      <th>product_type</th>\n",
       "      <th>country_client</th>\n",
       "    </tr>\n",
       "  </thead>\n",
       "  <tbody>\n",
       "    <tr>\n",
       "      <th>0</th>\n",
       "      <td>a40ee72e10612613885de1208e1b9500</td>\n",
       "      <td>c4ca4238a0b923820dcc509a6f75849b</td>\n",
       "      <td>M</td>\n",
       "      <td>NaN</td>\n",
       "      <td>73.0</td>\n",
       "      <td>2021-01-01 00:10:23.616000+00:00</td>\n",
       "      <td>Fox Energy</td>\n",
       "      <td>Energy</td>\n",
       "      <td>UK</td>\n",
       "    </tr>\n",
       "    <tr>\n",
       "      <th>1</th>\n",
       "      <td>15c286543a1dbf6ab2c855747f751cb7</td>\n",
       "      <td>cfcd208495d565ef66e7dff9f98764da</td>\n",
       "      <td>NaN</td>\n",
       "      <td>NaN</td>\n",
       "      <td>27.0</td>\n",
       "      <td>2021-01-01 01:49:55.064000+00:00</td>\n",
       "      <td>SwanPay</td>\n",
       "      <td>BNPL</td>\n",
       "      <td>UK</td>\n",
       "    </tr>\n",
       "    <tr>\n",
       "      <th>2</th>\n",
       "      <td>f088f7d46f6d5d5b608bfc019e25e54b</td>\n",
       "      <td>1679091c5a880faf6fb5e6087eb1b2dc</td>\n",
       "      <td>F</td>\n",
       "      <td>CA</td>\n",
       "      <td>NaN</td>\n",
       "      <td>2021-01-01 01:56:54.809000+00:00</td>\n",
       "      <td>Moose Money</td>\n",
       "      <td>BNPL</td>\n",
       "      <td>CA</td>\n",
       "    </tr>\n",
       "    <tr>\n",
       "      <th>3</th>\n",
       "      <td>5074192370542d6bcb706b16aa85e116</td>\n",
       "      <td>8f14e45fceea167a5a36dedd4bea2543</td>\n",
       "      <td>M</td>\n",
       "      <td>CA</td>\n",
       "      <td>NaN</td>\n",
       "      <td>2021-01-01 02:09:55.996000+00:00</td>\n",
       "      <td>Eagle Energy</td>\n",
       "      <td>Energy</td>\n",
       "      <td>CA</td>\n",
       "    </tr>\n",
       "    <tr>\n",
       "      <th>4</th>\n",
       "      <td>131f5ce2b70940714231349e3ef14b39</td>\n",
       "      <td>cfcd208495d565ef66e7dff9f98764da</td>\n",
       "      <td>M</td>\n",
       "      <td>UK</td>\n",
       "      <td>31.0</td>\n",
       "      <td>2021-01-01 02:35:24.169000+00:00</td>\n",
       "      <td>SwanPay</td>\n",
       "      <td>BNPL</td>\n",
       "      <td>UK</td>\n",
       "    </tr>\n",
       "  </tbody>\n",
       "</table>\n",
       "</div>"
      ],
      "text/plain": [
       "                        customer_id                         client_id gender  \\\n",
       "0  a40ee72e10612613885de1208e1b9500  c4ca4238a0b923820dcc509a6f75849b      M   \n",
       "1  15c286543a1dbf6ab2c855747f751cb7  cfcd208495d565ef66e7dff9f98764da    NaN   \n",
       "2  f088f7d46f6d5d5b608bfc019e25e54b  1679091c5a880faf6fb5e6087eb1b2dc      F   \n",
       "3  5074192370542d6bcb706b16aa85e116  8f14e45fceea167a5a36dedd4bea2543      M   \n",
       "4  131f5ce2b70940714231349e3ef14b39  cfcd208495d565ef66e7dff9f98764da      M   \n",
       "\n",
       "  country_customer   age                        created_at   client_name  \\\n",
       "0              NaN  73.0  2021-01-01 00:10:23.616000+00:00    Fox Energy   \n",
       "1              NaN  27.0  2021-01-01 01:49:55.064000+00:00       SwanPay   \n",
       "2               CA   NaN  2021-01-01 01:56:54.809000+00:00   Moose Money   \n",
       "3               CA   NaN  2021-01-01 02:09:55.996000+00:00  Eagle Energy   \n",
       "4               UK  31.0  2021-01-01 02:35:24.169000+00:00       SwanPay   \n",
       "\n",
       "  product_type country_client  \n",
       "0       Energy             UK  \n",
       "1         BNPL             UK  \n",
       "2         BNPL             CA  \n",
       "3       Energy             CA  \n",
       "4         BNPL             UK  "
      ]
     },
     "execution_count": 191,
     "metadata": {},
     "output_type": "execute_result"
    }
   ],
   "source": [
    "#change column name,prepare for next stage of datasets join\n",
    "client_customer = client_customer.rename(\n",
    "    columns = {'country_x':'country_customer','country_y':'country_client','name':'client_name','id':'customer_id'})\n",
    "client_customer.head()"
   ]
  },
  {
   "cell_type": "markdown",
   "id": "09f9a017",
   "metadata": {},
   "source": [
    "**File 3: messages dataset**"
   ]
  },
  {
   "cell_type": "code",
   "execution_count": 192,
   "id": "fca0bd21",
   "metadata": {},
   "outputs": [
    {
     "name": "stdout",
     "output_type": "stream",
     "text": [
      "True\n",
      "(145941, 5)\n",
      "Empty DataFrame\n",
      "Columns: [id, customer_id, sent_at, clicked, converted]\n",
      "Index: []\n",
      "<class 'pandas.core.frame.DataFrame'>\n",
      "RangeIndex: 145941 entries, 0 to 145940\n",
      "Data columns (total 5 columns):\n",
      " #   Column       Non-Null Count   Dtype \n",
      "---  ------       --------------   ----- \n",
      " 0   id           145941 non-null  object\n",
      " 1   customer_id  145941 non-null  object\n",
      " 2   sent_at      145941 non-null  object\n",
      " 3   clicked      145941 non-null  int64 \n",
      " 4   converted    145941 non-null  int64 \n",
      "dtypes: int64(2), object(3)\n",
      "memory usage: 5.6+ MB\n"
     ]
    }
   ],
   "source": [
    "# File 3 inspection\n",
    "print(messages.columns.is_unique)\n",
    "print(messages.shape)\n",
    "print(messages[messages.duplicated()==True])\n",
    "messages.info()"
   ]
  },
  {
   "cell_type": "code",
   "execution_count": 193,
   "id": "e4b840f0",
   "metadata": {},
   "outputs": [
    {
     "data": {
      "text/html": [
       "<div>\n",
       "<style scoped>\n",
       "    .dataframe tbody tr th:only-of-type {\n",
       "        vertical-align: middle;\n",
       "    }\n",
       "\n",
       "    .dataframe tbody tr th {\n",
       "        vertical-align: top;\n",
       "    }\n",
       "\n",
       "    .dataframe thead th {\n",
       "        text-align: right;\n",
       "    }\n",
       "</style>\n",
       "<table border=\"1\" class=\"dataframe\">\n",
       "  <thead>\n",
       "    <tr style=\"text-align: right;\">\n",
       "      <th></th>\n",
       "      <th>clicked</th>\n",
       "      <th>converted</th>\n",
       "    </tr>\n",
       "  </thead>\n",
       "  <tbody>\n",
       "    <tr>\n",
       "      <th>count</th>\n",
       "      <td>145941.000000</td>\n",
       "      <td>145941.000000</td>\n",
       "    </tr>\n",
       "    <tr>\n",
       "      <th>mean</th>\n",
       "      <td>0.064231</td>\n",
       "      <td>0.021529</td>\n",
       "    </tr>\n",
       "    <tr>\n",
       "      <th>std</th>\n",
       "      <td>0.245166</td>\n",
       "      <td>0.145141</td>\n",
       "    </tr>\n",
       "    <tr>\n",
       "      <th>min</th>\n",
       "      <td>0.000000</td>\n",
       "      <td>0.000000</td>\n",
       "    </tr>\n",
       "    <tr>\n",
       "      <th>25%</th>\n",
       "      <td>0.000000</td>\n",
       "      <td>0.000000</td>\n",
       "    </tr>\n",
       "    <tr>\n",
       "      <th>50%</th>\n",
       "      <td>0.000000</td>\n",
       "      <td>0.000000</td>\n",
       "    </tr>\n",
       "    <tr>\n",
       "      <th>75%</th>\n",
       "      <td>0.000000</td>\n",
       "      <td>0.000000</td>\n",
       "    </tr>\n",
       "    <tr>\n",
       "      <th>max</th>\n",
       "      <td>1.000000</td>\n",
       "      <td>1.000000</td>\n",
       "    </tr>\n",
       "  </tbody>\n",
       "</table>\n",
       "</div>"
      ],
      "text/plain": [
       "             clicked      converted\n",
       "count  145941.000000  145941.000000\n",
       "mean        0.064231       0.021529\n",
       "std         0.245166       0.145141\n",
       "min         0.000000       0.000000\n",
       "25%         0.000000       0.000000\n",
       "50%         0.000000       0.000000\n",
       "75%         0.000000       0.000000\n",
       "max         1.000000       1.000000"
      ]
     },
     "execution_count": 193,
     "metadata": {},
     "output_type": "execute_result"
    }
   ],
   "source": [
    "messages.describe()"
   ]
  },
  {
   "cell_type": "markdown",
   "id": "37784941",
   "metadata": {},
   "source": [
    "Key insight:    \n",
    "-- no missing values in the dataset\n",
    "--all object features but 'clicked','converted'\n",
    "-- 'clicked' and 'converted' values between 1 and 0\n",
    "-- 'converted' mean lower than 'clicked'\n",
    "--all columns are unique, no duplicate rows identified"
   ]
  },
  {
   "cell_type": "code",
   "execution_count": 194,
   "id": "9f5ef8a1",
   "metadata": {
    "scrolled": true
   },
   "outputs": [
    {
     "data": {
      "text/html": [
       "<div>\n",
       "<style scoped>\n",
       "    .dataframe tbody tr th:only-of-type {\n",
       "        vertical-align: middle;\n",
       "    }\n",
       "\n",
       "    .dataframe tbody tr th {\n",
       "        vertical-align: top;\n",
       "    }\n",
       "\n",
       "    .dataframe thead th {\n",
       "        text-align: right;\n",
       "    }\n",
       "</style>\n",
       "<table border=\"1\" class=\"dataframe\">\n",
       "  <thead>\n",
       "    <tr style=\"text-align: right;\">\n",
       "      <th></th>\n",
       "      <th>id</th>\n",
       "      <th>customer_id</th>\n",
       "      <th>sent_at</th>\n",
       "      <th>clicked</th>\n",
       "      <th>converted</th>\n",
       "    </tr>\n",
       "  </thead>\n",
       "  <tbody>\n",
       "    <tr>\n",
       "      <th>0</th>\n",
       "      <td>28d82c62db5989d9441351f58738c6a8</td>\n",
       "      <td>f13e966f9dc1e2aa7bffec6c9efa8e11</td>\n",
       "      <td>2021-01-04 10:03:16.376000+00:00</td>\n",
       "      <td>0</td>\n",
       "      <td>0</td>\n",
       "    </tr>\n",
       "    <tr>\n",
       "      <th>1</th>\n",
       "      <td>61407843c408f8f9b98df94a649c0dd3</td>\n",
       "      <td>9042b6cec8fc08a2c9d8197353215daf</td>\n",
       "      <td>2021-01-04 10:42:47.027000+00:00</td>\n",
       "      <td>0</td>\n",
       "      <td>0</td>\n",
       "    </tr>\n",
       "    <tr>\n",
       "      <th>2</th>\n",
       "      <td>175fd64b8aa5a049f8a0d39ec00e5009</td>\n",
       "      <td>5074192370542d6bcb706b16aa85e116</td>\n",
       "      <td>2021-01-04 11:18:23.996000+00:00</td>\n",
       "      <td>1</td>\n",
       "      <td>1</td>\n",
       "    </tr>\n",
       "    <tr>\n",
       "      <th>3</th>\n",
       "      <td>111a3189c6155983b91618f7ec5c1566</td>\n",
       "      <td>7fa0e965af2e30530dba2fad1d3dcfc2</td>\n",
       "      <td>2021-01-04 12:53:56.733000+00:00</td>\n",
       "      <td>0</td>\n",
       "      <td>0</td>\n",
       "    </tr>\n",
       "    <tr>\n",
       "      <th>4</th>\n",
       "      <td>b5b27ad6c3dbf19f2627d2068dafddf2</td>\n",
       "      <td>d2c003d1c9594ea11f492746bca99ea7</td>\n",
       "      <td>2021-01-04 12:54:02.700000+00:00</td>\n",
       "      <td>0</td>\n",
       "      <td>0</td>\n",
       "    </tr>\n",
       "  </tbody>\n",
       "</table>\n",
       "</div>"
      ],
      "text/plain": [
       "                                 id                       customer_id  \\\n",
       "0  28d82c62db5989d9441351f58738c6a8  f13e966f9dc1e2aa7bffec6c9efa8e11   \n",
       "1  61407843c408f8f9b98df94a649c0dd3  9042b6cec8fc08a2c9d8197353215daf   \n",
       "2  175fd64b8aa5a049f8a0d39ec00e5009  5074192370542d6bcb706b16aa85e116   \n",
       "3  111a3189c6155983b91618f7ec5c1566  7fa0e965af2e30530dba2fad1d3dcfc2   \n",
       "4  b5b27ad6c3dbf19f2627d2068dafddf2  d2c003d1c9594ea11f492746bca99ea7   \n",
       "\n",
       "                            sent_at  clicked  converted  \n",
       "0  2021-01-04 10:03:16.376000+00:00        0          0  \n",
       "1  2021-01-04 10:42:47.027000+00:00        0          0  \n",
       "2  2021-01-04 11:18:23.996000+00:00        1          1  \n",
       "3  2021-01-04 12:53:56.733000+00:00        0          0  \n",
       "4  2021-01-04 12:54:02.700000+00:00        0          0  "
      ]
     },
     "execution_count": 194,
     "metadata": {},
     "output_type": "execute_result"
    }
   ],
   "source": [
    "messages.head()"
   ]
  },
  {
   "cell_type": "code",
   "execution_count": 195,
   "id": "5ed51321",
   "metadata": {},
   "outputs": [],
   "source": [
    "#final join table with messages dataset, on key customer_id\n",
    "df = pd.merge(messages,client_customer,left_on=['customer_id'], right_on=['customer_id'], how = 'left')"
   ]
  },
  {
   "cell_type": "code",
   "execution_count": 196,
   "id": "5e11ea62",
   "metadata": {},
   "outputs": [
    {
     "name": "stdout",
     "output_type": "stream",
     "text": [
      "True\n",
      "(145941, 13)\n",
      "Empty DataFrame\n",
      "Columns: [id, customer_id, sent_at, clicked, converted, client_id, gender, country_customer, age, created_at, client_name, product_type, country_client]\n",
      "Index: []\n",
      "<class 'pandas.core.frame.DataFrame'>\n",
      "Int64Index: 145941 entries, 0 to 145940\n",
      "Data columns (total 13 columns):\n",
      " #   Column            Non-Null Count   Dtype  \n",
      "---  ------            --------------   -----  \n",
      " 0   id                145941 non-null  object \n",
      " 1   customer_id       145941 non-null  object \n",
      " 2   sent_at           145941 non-null  object \n",
      " 3   clicked           145941 non-null  int64  \n",
      " 4   converted         145941 non-null  int64  \n",
      " 5   client_id         145941 non-null  object \n",
      " 6   gender            114265 non-null  object \n",
      " 7   country_customer  115795 non-null  object \n",
      " 8   age               123921 non-null  float64\n",
      " 9   created_at        145941 non-null  object \n",
      " 10  client_name       145941 non-null  object \n",
      " 11  product_type      145941 non-null  object \n",
      " 12  country_client    145941 non-null  object \n",
      "dtypes: float64(1), int64(2), object(10)\n",
      "memory usage: 15.6+ MB\n"
     ]
    }
   ],
   "source": [
    "print(df.columns.is_unique)\n",
    "print(df.shape)\n",
    "print(df[df.duplicated()==True])\n",
    "df.info()"
   ]
  },
  {
   "cell_type": "code",
   "execution_count": 197,
   "id": "fd18711a",
   "metadata": {},
   "outputs": [
    {
     "data": {
      "text/html": [
       "<div>\n",
       "<style scoped>\n",
       "    .dataframe tbody tr th:only-of-type {\n",
       "        vertical-align: middle;\n",
       "    }\n",
       "\n",
       "    .dataframe tbody tr th {\n",
       "        vertical-align: top;\n",
       "    }\n",
       "\n",
       "    .dataframe thead th {\n",
       "        text-align: right;\n",
       "    }\n",
       "</style>\n",
       "<table border=\"1\" class=\"dataframe\">\n",
       "  <thead>\n",
       "    <tr style=\"text-align: right;\">\n",
       "      <th></th>\n",
       "      <th>clicked</th>\n",
       "      <th>converted</th>\n",
       "      <th>age</th>\n",
       "    </tr>\n",
       "  </thead>\n",
       "  <tbody>\n",
       "    <tr>\n",
       "      <th>count</th>\n",
       "      <td>145941.000000</td>\n",
       "      <td>145941.000000</td>\n",
       "      <td>123921.000000</td>\n",
       "    </tr>\n",
       "    <tr>\n",
       "      <th>mean</th>\n",
       "      <td>0.064231</td>\n",
       "      <td>0.021529</td>\n",
       "      <td>43.041857</td>\n",
       "    </tr>\n",
       "    <tr>\n",
       "      <th>std</th>\n",
       "      <td>0.245166</td>\n",
       "      <td>0.145141</td>\n",
       "      <td>17.772985</td>\n",
       "    </tr>\n",
       "    <tr>\n",
       "      <th>min</th>\n",
       "      <td>0.000000</td>\n",
       "      <td>0.000000</td>\n",
       "      <td>18.000000</td>\n",
       "    </tr>\n",
       "    <tr>\n",
       "      <th>25%</th>\n",
       "      <td>0.000000</td>\n",
       "      <td>0.000000</td>\n",
       "      <td>26.000000</td>\n",
       "    </tr>\n",
       "    <tr>\n",
       "      <th>50%</th>\n",
       "      <td>0.000000</td>\n",
       "      <td>0.000000</td>\n",
       "      <td>44.000000</td>\n",
       "    </tr>\n",
       "    <tr>\n",
       "      <th>75%</th>\n",
       "      <td>0.000000</td>\n",
       "      <td>0.000000</td>\n",
       "      <td>55.000000</td>\n",
       "    </tr>\n",
       "    <tr>\n",
       "      <th>max</th>\n",
       "      <td>1.000000</td>\n",
       "      <td>1.000000</td>\n",
       "      <td>96.000000</td>\n",
       "    </tr>\n",
       "  </tbody>\n",
       "</table>\n",
       "</div>"
      ],
      "text/plain": [
       "             clicked      converted            age\n",
       "count  145941.000000  145941.000000  123921.000000\n",
       "mean        0.064231       0.021529      43.041857\n",
       "std         0.245166       0.145141      17.772985\n",
       "min         0.000000       0.000000      18.000000\n",
       "25%         0.000000       0.000000      26.000000\n",
       "50%         0.000000       0.000000      44.000000\n",
       "75%         0.000000       0.000000      55.000000\n",
       "max         1.000000       1.000000      96.000000"
      ]
     },
     "execution_count": 197,
     "metadata": {},
     "output_type": "execute_result"
    }
   ],
   "source": [
    "df.describe()"
   ]
  },
  {
   "cell_type": "markdown",
   "id": "5a20f729",
   "metadata": {},
   "source": [
    "Key insight:    \n",
    "-- missing values in the dataset, 'gender', 'country_customer', 'age'\n",
    "-- all object features but 'clicked','converted','age'\n",
    "-- 'clicked' and 'converted' values between 1 and 0\n",
    "-- 'converted' mean lower than 'clicked'\n",
    "--all columns are unique, no duplicate rows identified\n",
    "-- 'clicked','converted','age columns have diffrent scale range"
   ]
  },
  {
   "cell_type": "code",
   "execution_count": 198,
   "id": "b891e9e5",
   "metadata": {},
   "outputs": [],
   "source": [
    "df=df.drop(columns=['customer_id','id','client_id','created_at'])"
   ]
  },
  {
   "cell_type": "code",
   "execution_count": 199,
   "id": "a407120c",
   "metadata": {},
   "outputs": [
    {
     "name": "stdout",
     "output_type": "stream",
     "text": [
      "<class 'pandas.core.frame.DataFrame'>\n",
      "Int64Index: 145941 entries, 0 to 145940\n",
      "Data columns (total 9 columns):\n",
      " #   Column            Non-Null Count   Dtype  \n",
      "---  ------            --------------   -----  \n",
      " 0   sent_at           145941 non-null  object \n",
      " 1   clicked           145941 non-null  int64  \n",
      " 2   converted         145941 non-null  int64  \n",
      " 3   gender            114265 non-null  object \n",
      " 4   country_customer  115795 non-null  object \n",
      " 5   age               123921 non-null  float64\n",
      " 6   client_name       145941 non-null  object \n",
      " 7   product_type      145941 non-null  object \n",
      " 8   country_client    145941 non-null  object \n",
      "dtypes: float64(1), int64(2), object(6)\n",
      "memory usage: 11.1+ MB\n"
     ]
    }
   ],
   "source": [
    "df.info()"
   ]
  },
  {
   "cell_type": "code",
   "execution_count": 200,
   "id": "f04ed42d",
   "metadata": {
    "scrolled": true
   },
   "outputs": [],
   "source": [
    "#fix missing values\n",
    "#fill NaN in 'country_customer' column with 'country_client' value\n",
    "df['country_customer']=df['country_customer'].fillna(df['country_client'])"
   ]
  },
  {
   "cell_type": "markdown",
   "id": "bbf1e8f9",
   "metadata": {},
   "source": [
    "**Find correlation between 'converted' and age/gender**"
   ]
  },
  {
   "cell_type": "code",
   "execution_count": 201,
   "id": "1c6b0008",
   "metadata": {},
   "outputs": [
    {
     "data": {
      "text/plain": [
       "<AxesSubplot:title={'center':'Customer age by gender'}, xlabel='gender', ylabel='age'>"
      ]
     },
     "execution_count": 201,
     "metadata": {},
     "output_type": "execute_result"
    },
    {
     "data": {
      "image/png": "[encoded data removed]",
      "text/plain": [
       "<Figure size 600x500 with 1 Axes>"
      ]
     },
     "metadata": {},
     "output_type": "display_data"
    }
   ],
   "source": [
    "# box plot visualization about the distrubution of customer' gender vs age\n",
    "sns.set_theme(style='whitegrid')\n",
    "fig,ax = plt.subplots(figsize=(6,5))\n",
    "ax.set_title('Customer age by gender')\n",
    "sns.boxplot(data=df,x='gender',y='age',palette='Spectral',width=.5)"
   ]
  },
  {
   "cell_type": "markdown",
   "id": "d73df2e5",
   "metadata": {},
   "source": [
    "The boxplot shows the customer age per gender group over a 10 months period. \n",
    "In female group, the median of age was about 38 years old, which is the lower than male group. 12 years lower than the median age of male borrowers. \n",
    "The upper quartile age in female group was about 50, a lower of 13.7%, compared to male group age (58 years old)."
   ]
  },
  {
   "cell_type": "code",
   "execution_count": 202,
   "id": "4a454ee9",
   "metadata": {},
   "outputs": [
    {
     "data": {
      "text/plain": [
       "<seaborn.axisgrid.FacetGrid at 0x207db255850>"
      ]
     },
     "execution_count": 202,
     "metadata": {},
     "output_type": "execute_result"
    },
    {
     "data": {
      "image/png": "[encoded data removed]",
      "text/plain": [
       "<Figure size 585.472x500 with 1 Axes>"
      ]
     },
     "metadata": {},
     "output_type": "display_data"
    }
   ],
   "source": [
    "#ralted to gender and age?\n",
    "# box plot visualization about the distrubution of customer' gender vs age\n",
    "age_count= sns.catplot(x='age', y='gender', kind='violin',hue = 'converted',palette='Spectral', data=df)\n",
    "\n",
    "# add label and title\n",
    "age_count.set(xlabel = 'customer age', ylabel = 'gender',title = 'Coration between customer age and gender')"
   ]
  },
  {
   "cell_type": "code",
   "execution_count": 203,
   "id": "84e73679",
   "metadata": {},
   "outputs": [
    {
     "data": {
      "text/html": [
       "<div>\n",
       "<style scoped>\n",
       "    .dataframe tbody tr th:only-of-type {\n",
       "        vertical-align: middle;\n",
       "    }\n",
       "\n",
       "    .dataframe tbody tr th {\n",
       "        vertical-align: top;\n",
       "    }\n",
       "\n",
       "    .dataframe thead th {\n",
       "        text-align: right;\n",
       "    }\n",
       "</style>\n",
       "<table border=\"1\" class=\"dataframe\">\n",
       "  <thead>\n",
       "    <tr style=\"text-align: right;\">\n",
       "      <th></th>\n",
       "      <th>gender</th>\n",
       "      <th>converted</th>\n",
       "    </tr>\n",
       "  </thead>\n",
       "  <tbody>\n",
       "    <tr>\n",
       "      <th>0</th>\n",
       "      <td>F</td>\n",
       "      <td>1403</td>\n",
       "    </tr>\n",
       "    <tr>\n",
       "      <th>1</th>\n",
       "      <td>M</td>\n",
       "      <td>1201</td>\n",
       "    </tr>\n",
       "  </tbody>\n",
       "</table>\n",
       "</div>"
      ],
      "text/plain": [
       "  gender  converted\n",
       "0      F       1403\n",
       "1      M       1201"
      ]
     },
     "execution_count": 203,
     "metadata": {},
     "output_type": "execute_result"
    }
   ],
   "source": [
    "#calculate median age for female and male\n",
    "df.groupby('gender', as_index=False).converted.sum()"
   ]
  },
  {
   "cell_type": "markdown",
   "id": "54d994f2",
   "metadata": {},
   "source": [
    "Key insight:    \n",
    "\n",
    "-- outliers observed\n",
    "\n",
    "Among the customers who do not choose Indebted products,middle-aged men are more than women, concentrated in about 50 years old.\n",
    "The customers who choose Indebted products are mainly young people, aged 23-30 years old. In the lower age group, male customers outnumber female customers.\n",
    "Therefore, there is a strong link between customer gender, age and conversion rates.\n",
    "\n",
    "violin figure shows the the customer age per gender group over a 10 months period.Among the customers who do not choose Indebted products,middle-aged men are more than women, concentrated in about 50 years old. 11 years older than the median age of female customers.The upper quartile age in male group who do not choose Indebted products was about 58, a older of 16%, compared to female group age (50 years old).\n",
    "\n",
    "The customers who choose Indebted products are mainly young people, aged 28-30 years old. In the both of gender groups, male customers slightly outnumber female customers.\n",
    "\n",
    "Therefor a strong link between customer gender, age and conversion rates."
   ]
  },
  {
   "cell_type": "markdown",
   "id": "2f35744c",
   "metadata": {},
   "source": [
    "**Find correlation between 'converted' and region,client,product type**"
   ]
  },
  {
   "cell_type": "code",
   "execution_count": 204,
   "id": "802f69ae",
   "metadata": {},
   "outputs": [
    {
     "data": {
      "text/plain": [
       "<seaborn.axisgrid.FacetGrid at 0x207db2e11f0>"
      ]
     },
     "execution_count": 204,
     "metadata": {},
     "output_type": "execute_result"
    },
    {
     "data": {
      "image/png": "[encoded data removed]",
      "text/plain": [
       "<Figure size 585.472x500 with 1 Axes>"
      ]
     },
     "metadata": {},
     "output_type": "display_data"
    }
   ],
   "source": [
    "#ralted to region?\n",
    "# plot and count number of customer in each country \n",
    "country_count= sns.catplot(x='country_customer', kind='count',hue = 'converted',palette='Spectral', data=df)\n",
    "\n",
    "# add label and title\n",
    "country_count.set(xlabel = 'country', ylabel = 'Number of customer',title = 'Number of Customer in Each Country')"
   ]
  },
  {
   "cell_type": "code",
   "execution_count": 205,
   "id": "703b243f",
   "metadata": {},
   "outputs": [
    {
     "data": {
      "text/html": [
       "<div>\n",
       "<style scoped>\n",
       "    .dataframe tbody tr th:only-of-type {\n",
       "        vertical-align: middle;\n",
       "    }\n",
       "\n",
       "    .dataframe tbody tr th {\n",
       "        vertical-align: top;\n",
       "    }\n",
       "\n",
       "    .dataframe thead th {\n",
       "        text-align: right;\n",
       "    }\n",
       "</style>\n",
       "<table border=\"1\" class=\"dataframe\">\n",
       "  <thead>\n",
       "    <tr style=\"text-align: right;\">\n",
       "      <th></th>\n",
       "      <th>country_customer</th>\n",
       "      <th>converted</th>\n",
       "    </tr>\n",
       "  </thead>\n",
       "  <tbody>\n",
       "    <tr>\n",
       "      <th>0</th>\n",
       "      <td>CA</td>\n",
       "      <td>1413</td>\n",
       "    </tr>\n",
       "    <tr>\n",
       "      <th>1</th>\n",
       "      <td>NZ</td>\n",
       "      <td>438</td>\n",
       "    </tr>\n",
       "    <tr>\n",
       "      <th>2</th>\n",
       "      <td>UK</td>\n",
       "      <td>1291</td>\n",
       "    </tr>\n",
       "  </tbody>\n",
       "</table>\n",
       "</div>"
      ],
      "text/plain": [
       "  country_customer  converted\n",
       "0               CA       1413\n",
       "1               NZ        438\n",
       "2               UK       1291"
      ]
     },
     "execution_count": 205,
     "metadata": {},
     "output_type": "execute_result"
    }
   ],
   "source": [
    "#calculate sum of converted for each country\n",
    "\n",
    "df.groupby('country_customer', as_index=False).converted.sum()"
   ]
  },
  {
   "cell_type": "markdown",
   "id": "249c5a0a",
   "metadata": {},
   "source": [
    "The UK has the most customers (66,000), but not the highest conversion value (1291), whereas CA has the most conversion value (1413) and the lowest number of customers (33,000). New Zealand's conversion value is at least 438.\n",
    "\n",
    "This observation may be due to customers in the UK and New Zealand having other debt options, or having questions about the product, or having different spending/repayment habits.\n",
    "\n",
    "Therefore, the correlation between the customer location and the target conversion rate may be low, and the country_client feature may have a similar situation."
   ]
  },
  {
   "cell_type": "code",
   "execution_count": 206,
   "id": "9f28ddc5",
   "metadata": {},
   "outputs": [
    {
     "data": {
      "text/plain": [
       "<seaborn.axisgrid.FacetGrid at 0x207e4d70940>"
      ]
     },
     "execution_count": 206,
     "metadata": {},
     "output_type": "execute_result"
    },
    {
     "data": {
      "image/png": "[encoded data removed]",
      "text/plain": [
       "<Figure size 1085.47x500 with 1 Axes>"
      ]
     },
     "metadata": {},
     "output_type": "display_data"
    }
   ],
   "source": [
    "#ralted to client?\n",
    "# plot and count number of customer in each client\n",
    "\n",
    "client_count= sns.catplot(x='client_name', kind='count',hue = 'converted',palette='Spectral', data=df, aspect =2)\n",
    "\n",
    "# add label and title\n",
    "client_count.set(xlabel = 'client_name', ylabel = 'Number of service demand by client',title = 'Number of Service Demand in Each Client')"
   ]
  },
  {
   "cell_type": "code",
   "execution_count": 207,
   "id": "21f7b05c",
   "metadata": {},
   "outputs": [
    {
     "data": {
      "text/html": [
       "<div>\n",
       "<style scoped>\n",
       "    .dataframe tbody tr th:only-of-type {\n",
       "        vertical-align: middle;\n",
       "    }\n",
       "\n",
       "    .dataframe tbody tr th {\n",
       "        vertical-align: top;\n",
       "    }\n",
       "\n",
       "    .dataframe thead th {\n",
       "        text-align: right;\n",
       "    }\n",
       "</style>\n",
       "<table border=\"1\" class=\"dataframe\">\n",
       "  <thead>\n",
       "    <tr style=\"text-align: right;\">\n",
       "      <th></th>\n",
       "      <th>client_name</th>\n",
       "      <th>converted</th>\n",
       "    </tr>\n",
       "  </thead>\n",
       "  <tbody>\n",
       "    <tr>\n",
       "      <th>0</th>\n",
       "      <td>Badgerbank</td>\n",
       "      <td>169</td>\n",
       "    </tr>\n",
       "    <tr>\n",
       "      <th>1</th>\n",
       "      <td>Beaver Bank</td>\n",
       "      <td>175</td>\n",
       "    </tr>\n",
       "    <tr>\n",
       "      <th>2</th>\n",
       "      <td>Eagle Energy</td>\n",
       "      <td>145</td>\n",
       "    </tr>\n",
       "    <tr>\n",
       "      <th>3</th>\n",
       "      <td>Fox Energy</td>\n",
       "      <td>179</td>\n",
       "    </tr>\n",
       "    <tr>\n",
       "      <th>4</th>\n",
       "      <td>KiwiPay</td>\n",
       "      <td>373</td>\n",
       "    </tr>\n",
       "    <tr>\n",
       "      <th>5</th>\n",
       "      <td>Moose Money</td>\n",
       "      <td>861</td>\n",
       "    </tr>\n",
       "    <tr>\n",
       "      <th>6</th>\n",
       "      <td>Skink Solar</td>\n",
       "      <td>59</td>\n",
       "    </tr>\n",
       "    <tr>\n",
       "      <th>7</th>\n",
       "      <td>SwanPay</td>\n",
       "      <td>1181</td>\n",
       "    </tr>\n",
       "  </tbody>\n",
       "</table>\n",
       "</div>"
      ],
      "text/plain": [
       "    client_name  converted\n",
       "0    Badgerbank        169\n",
       "1   Beaver Bank        175\n",
       "2  Eagle Energy        145\n",
       "3    Fox Energy        179\n",
       "4       KiwiPay        373\n",
       "5   Moose Money        861\n",
       "6   Skink Solar         59\n",
       "7       SwanPay       1181"
      ]
     },
     "execution_count": 207,
     "metadata": {},
     "output_type": "execute_result"
    }
   ],
   "source": [
    "#calculate sum of converted for each client\n",
    "\n",
    "df.groupby('client_name', as_index=False).converted.sum()"
   ]
  },
  {
   "cell_type": "markdown",
   "id": "327c5ce4",
   "metadata": {},
   "source": [
    "The SwanPay has the most service demand(35,000),it has the highest conversion value (1181), whereas Moose Money has the second most conversion value (861) but the low service demand (11,000). Skink Solar's conversion value is at least 59. Eagle Energy had the least service demand 7,500.\n",
    "\n",
    "Therefore, the correlation between the service demand and the target conversion rate may be low."
   ]
  },
  {
   "cell_type": "code",
   "execution_count": 208,
   "id": "ac54668c",
   "metadata": {},
   "outputs": [
    {
     "data": {
      "text/plain": [
       "<seaborn.axisgrid.FacetGrid at 0x207e4d63220>"
      ]
     },
     "execution_count": 208,
     "metadata": {},
     "output_type": "execute_result"
    },
    {
     "data": {
      "image/png": "[encoded data removed]",
      "text/plain": [
       "<Figure size 585.472x500 with 1 Axes>"
      ]
     },
     "metadata": {},
     "output_type": "display_data"
    }
   ],
   "source": [
    "#ralte to product type?\n",
    "# plot and count number of customer in each product type\n",
    "\n",
    "client_count= sns.catplot(x='product_type', kind='count',hue = 'converted',palette='Spectral', data=df)\n",
    "\n",
    "# add label and title\n",
    "client_count.set(xlabel = 'product_type', ylabel = 'Number of service demand by product type',title = 'Number of Service Demand in Each Product')\n"
   ]
  },
  {
   "cell_type": "code",
   "execution_count": 209,
   "id": "65875889",
   "metadata": {},
   "outputs": [
    {
     "data": {
      "text/html": [
       "<div>\n",
       "<style scoped>\n",
       "    .dataframe tbody tr th:only-of-type {\n",
       "        vertical-align: middle;\n",
       "    }\n",
       "\n",
       "    .dataframe tbody tr th {\n",
       "        vertical-align: top;\n",
       "    }\n",
       "\n",
       "    .dataframe thead th {\n",
       "        text-align: right;\n",
       "    }\n",
       "</style>\n",
       "<table border=\"1\" class=\"dataframe\">\n",
       "  <thead>\n",
       "    <tr style=\"text-align: right;\">\n",
       "      <th></th>\n",
       "      <th>product_type</th>\n",
       "      <th>converted</th>\n",
       "    </tr>\n",
       "  </thead>\n",
       "  <tbody>\n",
       "    <tr>\n",
       "      <th>0</th>\n",
       "      <td>BNPL</td>\n",
       "      <td>2415</td>\n",
       "    </tr>\n",
       "    <tr>\n",
       "      <th>1</th>\n",
       "      <td>CreditCard</td>\n",
       "      <td>344</td>\n",
       "    </tr>\n",
       "    <tr>\n",
       "      <th>2</th>\n",
       "      <td>Energy</td>\n",
       "      <td>383</td>\n",
       "    </tr>\n",
       "  </tbody>\n",
       "</table>\n",
       "</div>"
      ],
      "text/plain": [
       "  product_type  converted\n",
       "0         BNPL       2415\n",
       "1   CreditCard        344\n",
       "2       Energy        383"
      ]
     },
     "execution_count": 209,
     "metadata": {},
     "output_type": "execute_result"
    }
   ],
   "source": [
    "#calculate sum of converted for each client\n",
    "\n",
    "df.groupby('product_type', as_index=False).converted.sum()"
   ]
  },
  {
   "cell_type": "markdown",
   "id": "151802ca",
   "metadata": {},
   "source": [
    "The BNPL has the most service demand(66,000),it has the highest conversion value (2415), whereas Credit Card has the second most service demand 40,000, conversion value (861), but it has a similar conversion value to energy, 344 and 383, respectively. Energy had the least service demand 34,000.\n",
    "\n",
    "Therefore, the correlation between the prodouct type and the target conversion rate may be intermediate."
   ]
  },
  {
   "cell_type": "code",
   "execution_count": 210,
   "id": "18769234",
   "metadata": {},
   "outputs": [
    {
     "data": {
      "text/html": [
       "<div>\n",
       "<style scoped>\n",
       "    .dataframe tbody tr th:only-of-type {\n",
       "        vertical-align: middle;\n",
       "    }\n",
       "\n",
       "    .dataframe tbody tr th {\n",
       "        vertical-align: top;\n",
       "    }\n",
       "\n",
       "    .dataframe thead th {\n",
       "        text-align: right;\n",
       "    }\n",
       "</style>\n",
       "<table border=\"1\" class=\"dataframe\">\n",
       "  <thead>\n",
       "    <tr style=\"text-align: right;\">\n",
       "      <th></th>\n",
       "      <th>sent_at</th>\n",
       "      <th>clicked</th>\n",
       "      <th>converted</th>\n",
       "      <th>gender</th>\n",
       "      <th>country_customer</th>\n",
       "      <th>age</th>\n",
       "      <th>client_name</th>\n",
       "      <th>product_type</th>\n",
       "      <th>country_client</th>\n",
       "    </tr>\n",
       "  </thead>\n",
       "  <tbody>\n",
       "    <tr>\n",
       "      <th>0</th>\n",
       "      <td>2021-01-04 10:03:16.376000+00:00</td>\n",
       "      <td>0</td>\n",
       "      <td>0</td>\n",
       "      <td>F</td>\n",
       "      <td>UK</td>\n",
       "      <td>51.0</td>\n",
       "      <td>SwanPay</td>\n",
       "      <td>BNPL</td>\n",
       "      <td>UK</td>\n",
       "    </tr>\n",
       "    <tr>\n",
       "      <th>1</th>\n",
       "      <td>2021-01-04 10:42:47.027000+00:00</td>\n",
       "      <td>0</td>\n",
       "      <td>0</td>\n",
       "      <td>F</td>\n",
       "      <td>UK</td>\n",
       "      <td>38.0</td>\n",
       "      <td>Badgerbank</td>\n",
       "      <td>CreditCard</td>\n",
       "      <td>UK</td>\n",
       "    </tr>\n",
       "    <tr>\n",
       "      <th>2</th>\n",
       "      <td>2021-01-04 11:18:23.996000+00:00</td>\n",
       "      <td>1</td>\n",
       "      <td>1</td>\n",
       "      <td>M</td>\n",
       "      <td>CA</td>\n",
       "      <td>48.0</td>\n",
       "      <td>Eagle Energy</td>\n",
       "      <td>Energy</td>\n",
       "      <td>CA</td>\n",
       "    </tr>\n",
       "    <tr>\n",
       "      <th>3</th>\n",
       "      <td>2021-01-04 12:53:56.733000+00:00</td>\n",
       "      <td>0</td>\n",
       "      <td>0</td>\n",
       "      <td>F</td>\n",
       "      <td>CA</td>\n",
       "      <td>26.0</td>\n",
       "      <td>Moose Money</td>\n",
       "      <td>BNPL</td>\n",
       "      <td>CA</td>\n",
       "    </tr>\n",
       "    <tr>\n",
       "      <th>4</th>\n",
       "      <td>2021-01-04 12:54:02.700000+00:00</td>\n",
       "      <td>0</td>\n",
       "      <td>0</td>\n",
       "      <td>F</td>\n",
       "      <td>CA</td>\n",
       "      <td>38.0</td>\n",
       "      <td>Moose Money</td>\n",
       "      <td>BNPL</td>\n",
       "      <td>CA</td>\n",
       "    </tr>\n",
       "  </tbody>\n",
       "</table>\n",
       "</div>"
      ],
      "text/plain": [
       "                            sent_at  clicked  converted gender  \\\n",
       "0  2021-01-04 10:03:16.376000+00:00        0          0      F   \n",
       "1  2021-01-04 10:42:47.027000+00:00        0          0      F   \n",
       "2  2021-01-04 11:18:23.996000+00:00        1          1      M   \n",
       "3  2021-01-04 12:53:56.733000+00:00        0          0      F   \n",
       "4  2021-01-04 12:54:02.700000+00:00        0          0      F   \n",
       "\n",
       "  country_customer   age   client_name product_type country_client  \n",
       "0               UK  51.0       SwanPay         BNPL             UK  \n",
       "1               UK  38.0    Badgerbank   CreditCard             UK  \n",
       "2               CA  48.0  Eagle Energy       Energy             CA  \n",
       "3               CA  26.0   Moose Money         BNPL             CA  \n",
       "4               CA  38.0   Moose Money         BNPL             CA  "
      ]
     },
     "execution_count": 210,
     "metadata": {},
     "output_type": "execute_result"
    }
   ],
   "source": [
    "#fill missing values\n",
    "#fill NaN in 'age' column with median values\n",
    "#groupby remove rows where gender is NaN \n",
    "df = df.groupby(['gender'], group_keys=False).apply(lambda x: x.fillna(x.median()))\n",
    "df.head()"
   ]
  },
  {
   "cell_type": "code",
   "execution_count": 211,
   "id": "9c7858da",
   "metadata": {},
   "outputs": [
    {
     "name": "stdout",
     "output_type": "stream",
     "text": [
      "<class 'pandas.core.frame.DataFrame'>\n",
      "Int64Index: 114265 entries, 0 to 145940\n",
      "Data columns (total 9 columns):\n",
      " #   Column            Non-Null Count   Dtype  \n",
      "---  ------            --------------   -----  \n",
      " 0   sent_at           114265 non-null  object \n",
      " 1   clicked           114265 non-null  int64  \n",
      " 2   converted         114265 non-null  int64  \n",
      " 3   gender            114265 non-null  object \n",
      " 4   country_customer  114265 non-null  object \n",
      " 5   age               114265 non-null  float64\n",
      " 6   client_name       114265 non-null  object \n",
      " 7   product_type      114265 non-null  object \n",
      " 8   country_client    114265 non-null  object \n",
      "dtypes: float64(1), int64(2), object(6)\n",
      "memory usage: 12.7+ MB\n"
     ]
    }
   ],
   "source": [
    "df.info()"
   ]
  },
  {
   "cell_type": "markdown",
   "id": "1f76f9b9",
   "metadata": {},
   "source": [
    "Key insight:   \n",
    "\n",
    "no missing values in the dataset\n",
    "all object features but 'service_clicked','converted','age'\n",
    "'clicked' and 'converted' values between 1 and 0\n",
    "'converted' mean lower than 'clicked'\n",
    "all columns are unique, no duplicate rows identified\n",
    "\n",
    "'clicked','converted','age columns have diffrent scale range\n",
    "\n",
    "'age','gender','service_clicked' and ' product type' have strong to medium association with target"
   ]
  },
  {
   "cell_type": "code",
   "execution_count": 175,
   "id": "548c7951",
   "metadata": {},
   "outputs": [
    {
     "name": "stdout",
     "output_type": "stream",
     "text": [
      "Shape of dataframe: (114265, 12)\n",
      "<class 'pandas.core.frame.DataFrame'>\n",
      "RangeIndex: 114265 entries, 0 to 114264\n",
      "Data columns (total 12 columns):\n",
      " #   Column                   Non-Null Count   Dtype  \n",
      "---  ------                   --------------   -----  \n",
      " 0   gender_F                 114265 non-null  float64\n",
      " 1   gender_M                 114265 non-null  float64\n",
      " 2   product_type_BNPL        114265 non-null  float64\n",
      " 3   product_type_CreditCard  114265 non-null  float64\n",
      " 4   product_type_Energy      114265 non-null  float64\n",
      " 5   sent_at                  114265 non-null  object \n",
      " 6   clicked                  114265 non-null  int64  \n",
      " 7   converted                114265 non-null  int64  \n",
      " 8   country_customer         114265 non-null  object \n",
      " 9   age                      114265 non-null  float64\n",
      " 10  client_name              114265 non-null  object \n",
      " 11  country_client           114265 non-null  object \n",
      "dtypes: float64(6), int64(2), object(4)\n",
      "memory usage: 10.5+ MB\n"
     ]
    }
   ],
   "source": [
    "#one hot coding, add features\n",
    "encoder = OneHotEncoder(sparse =False)\n",
    "encode_cols= ['gender', 'product_type']\n",
    "\n",
    "df_encoded = pd.DataFrame(encoder.fit_transform(df[encode_cols]))\n",
    "df_encoded.columns = encoder.get_feature_names(encode_cols)\n",
    "\n",
    "# Replace Categotical Data with Encoded Data\n",
    "df = df.drop(encode_cols,axis = 1)\n",
    "df = df.reset_index(drop=True)\n",
    "df = pd.concat([df_encoded, df], axis = 1)\n",
    "\n",
    "print('Shape of dataframe:', df.shape)\n",
    "df.info()"
   ]
  },
  {
   "cell_type": "code",
   "execution_count": 176,
   "id": "c6c5a912",
   "metadata": {},
   "outputs": [],
   "source": [
    "#drop none use featuers\n",
    "df = df.drop(['country_customer','client_name','country_client'],axis = 1)\n",
    "df = df.reset_index(drop=True)"
   ]
  },
  {
   "cell_type": "code",
   "execution_count": 215,
   "id": "e6ead75c",
   "metadata": {},
   "outputs": [
    {
     "data": {
      "text/html": [
       "<div>\n",
       "<style scoped>\n",
       "    .dataframe tbody tr th:only-of-type {\n",
       "        vertical-align: middle;\n",
       "    }\n",
       "\n",
       "    .dataframe tbody tr th {\n",
       "        vertical-align: top;\n",
       "    }\n",
       "\n",
       "    .dataframe thead th {\n",
       "        text-align: right;\n",
       "    }\n",
       "</style>\n",
       "<table border=\"1\" class=\"dataframe\">\n",
       "  <thead>\n",
       "    <tr style=\"text-align: right;\">\n",
       "      <th></th>\n",
       "      <th>clicked</th>\n",
       "      <th>converted</th>\n",
       "      <th>gender</th>\n",
       "      <th>country_customer</th>\n",
       "      <th>age</th>\n",
       "      <th>client_name</th>\n",
       "      <th>product_type</th>\n",
       "      <th>country_client</th>\n",
       "    </tr>\n",
       "    <tr>\n",
       "      <th>sent_at</th>\n",
       "      <th></th>\n",
       "      <th></th>\n",
       "      <th></th>\n",
       "      <th></th>\n",
       "      <th></th>\n",
       "      <th></th>\n",
       "      <th></th>\n",
       "      <th></th>\n",
       "    </tr>\n",
       "  </thead>\n",
       "  <tbody>\n",
       "    <tr>\n",
       "      <th>2021-01-04 10:03:16.376000+00:00</th>\n",
       "      <td>0</td>\n",
       "      <td>0</td>\n",
       "      <td>F</td>\n",
       "      <td>UK</td>\n",
       "      <td>51.0</td>\n",
       "      <td>SwanPay</td>\n",
       "      <td>BNPL</td>\n",
       "      <td>UK</td>\n",
       "    </tr>\n",
       "    <tr>\n",
       "      <th>2021-01-04 10:42:47.027000+00:00</th>\n",
       "      <td>0</td>\n",
       "      <td>0</td>\n",
       "      <td>F</td>\n",
       "      <td>UK</td>\n",
       "      <td>38.0</td>\n",
       "      <td>Badgerbank</td>\n",
       "      <td>CreditCard</td>\n",
       "      <td>UK</td>\n",
       "    </tr>\n",
       "    <tr>\n",
       "      <th>2021-01-04 11:18:23.996000+00:00</th>\n",
       "      <td>1</td>\n",
       "      <td>1</td>\n",
       "      <td>M</td>\n",
       "      <td>CA</td>\n",
       "      <td>48.0</td>\n",
       "      <td>Eagle Energy</td>\n",
       "      <td>Energy</td>\n",
       "      <td>CA</td>\n",
       "    </tr>\n",
       "    <tr>\n",
       "      <th>2021-01-04 12:53:56.733000+00:00</th>\n",
       "      <td>0</td>\n",
       "      <td>0</td>\n",
       "      <td>F</td>\n",
       "      <td>CA</td>\n",
       "      <td>26.0</td>\n",
       "      <td>Moose Money</td>\n",
       "      <td>BNPL</td>\n",
       "      <td>CA</td>\n",
       "    </tr>\n",
       "    <tr>\n",
       "      <th>2021-01-04 12:54:02.700000+00:00</th>\n",
       "      <td>0</td>\n",
       "      <td>0</td>\n",
       "      <td>F</td>\n",
       "      <td>CA</td>\n",
       "      <td>38.0</td>\n",
       "      <td>Moose Money</td>\n",
       "      <td>BNPL</td>\n",
       "      <td>CA</td>\n",
       "    </tr>\n",
       "  </tbody>\n",
       "</table>\n",
       "</div>"
      ],
      "text/plain": [
       "                                  clicked  converted gender country_customer  \\\n",
       "sent_at                                                                        \n",
       "2021-01-04 10:03:16.376000+00:00        0          0      F               UK   \n",
       "2021-01-04 10:42:47.027000+00:00        0          0      F               UK   \n",
       "2021-01-04 11:18:23.996000+00:00        1          1      M               CA   \n",
       "2021-01-04 12:53:56.733000+00:00        0          0      F               CA   \n",
       "2021-01-04 12:54:02.700000+00:00        0          0      F               CA   \n",
       "\n",
       "                                   age   client_name product_type  \\\n",
       "sent_at                                                             \n",
       "2021-01-04 10:03:16.376000+00:00  51.0       SwanPay         BNPL   \n",
       "2021-01-04 10:42:47.027000+00:00  38.0    Badgerbank   CreditCard   \n",
       "2021-01-04 11:18:23.996000+00:00  48.0  Eagle Energy       Energy   \n",
       "2021-01-04 12:53:56.733000+00:00  26.0   Moose Money         BNPL   \n",
       "2021-01-04 12:54:02.700000+00:00  38.0   Moose Money         BNPL   \n",
       "\n",
       "                                 country_client  \n",
       "sent_at                                          \n",
       "2021-01-04 10:03:16.376000+00:00             UK  \n",
       "2021-01-04 10:42:47.027000+00:00             UK  \n",
       "2021-01-04 11:18:23.996000+00:00             CA  \n",
       "2021-01-04 12:53:56.733000+00:00             CA  \n",
       "2021-01-04 12:54:02.700000+00:00             CA  "
      ]
     },
     "execution_count": 215,
     "metadata": {},
     "output_type": "execute_result"
    }
   ],
   "source": [
    "#set email set at as index , prepare add feature, split train set and test set\n",
    "df= df.set_index('sent_at')\n",
    "df.index=pd.to_datetime(df.index)\n",
    "df.head()"
   ]
  },
  {
   "cell_type": "code",
   "execution_count": 216,
   "id": "a7591cd7",
   "metadata": {},
   "outputs": [
    {
     "data": {
      "text/plain": [
       "0    111661\n",
       "1      2604\n",
       "Name: converted, dtype: int64"
      ]
     },
     "execution_count": 216,
     "metadata": {},
     "output_type": "execute_result"
    }
   ],
   "source": [
    "#count target values\n",
    "df['converted'].value_counts()"
   ]
  },
  {
   "cell_type": "markdown",
   "id": "af311b85",
   "metadata": {},
   "source": [
    "**add more features**\n",
    "\n",
    "feature creation: creat time series features based on time series index.\n",
    "\n",
    "add: hour, day of week and day of year features"
   ]
  },
  {
   "cell_type": "code",
   "execution_count": 217,
   "id": "36b4b721",
   "metadata": {},
   "outputs": [],
   "source": [
    "#add more features\n",
    "#feature creation: creat time series features based on time series index.\n",
    "\n",
    "#day_mapping = {0: 'Monday', 1: 'Tuesday', 2: 'Wednesday', 3: 'Thursday', 4: 'Friday', 5: 'Saturday', 6: 'Sunday'}\n",
    "def creat_features(df):\n",
    "    df['hour']=df.index.hour\n",
    "    df['dayofweek']=df.index.day_of_week#.map(day_mapping)\n",
    "    #df['quarter'] = df.index.quarter\n",
    "    #df['month']=df.index.month\n",
    "    #df['year']=df.index.year\n",
    "    df['dayofyear']=df.index.dayofyear\n",
    "    #df['isweekend'] = np.where((df['dayofweek'] == 5) | (df['dayofweek'] == 6), 1, 0)\n",
    "    return df\n",
    "\n",
    "df = creat_features(df)"
   ]
  },
  {
   "cell_type": "code",
   "execution_count": 219,
   "id": "820bf509",
   "metadata": {},
   "outputs": [
    {
     "data": {
      "text/plain": [
       "<seaborn.axisgrid.FacetGrid at 0x207e4d63b20>"
      ]
     },
     "execution_count": 219,
     "metadata": {},
     "output_type": "execute_result"
    },
    {
     "data": {
      "image/png": "[encoded data removed]",
      "text/plain": [
       "<Figure size 585.472x500 with 1 Axes>"
      ]
     },
     "metadata": {},
     "output_type": "display_data"
    }
   ],
   "source": [
    "#ralte to hour?\n",
    "# plot and count number of customer in hour\n",
    "\n",
    "hr_count= sns.catplot(x='hour', kind='count',hue = 'converted',palette='Spectral', data=df)\n",
    "\n",
    "# add label and title\n",
    "hr_count.set(xlabel = 'Hour/Day', ylabel = 'Number of service Email sent out by hour',title = 'Number of Service Email Sent Out in Hour')"
   ]
  },
  {
   "cell_type": "code",
   "execution_count": 220,
   "id": "0ea9c072",
   "metadata": {},
   "outputs": [
    {
     "data": {
      "text/html": [
       "<div>\n",
       "<style scoped>\n",
       "    .dataframe tbody tr th:only-of-type {\n",
       "        vertical-align: middle;\n",
       "    }\n",
       "\n",
       "    .dataframe tbody tr th {\n",
       "        vertical-align: top;\n",
       "    }\n",
       "\n",
       "    .dataframe thead th {\n",
       "        text-align: right;\n",
       "    }\n",
       "</style>\n",
       "<table border=\"1\" class=\"dataframe\">\n",
       "  <thead>\n",
       "    <tr style=\"text-align: right;\">\n",
       "      <th></th>\n",
       "      <th>hour</th>\n",
       "      <th>converted</th>\n",
       "    </tr>\n",
       "  </thead>\n",
       "  <tbody>\n",
       "    <tr>\n",
       "      <th>0</th>\n",
       "      <td>8</td>\n",
       "      <td>137</td>\n",
       "    </tr>\n",
       "    <tr>\n",
       "      <th>1</th>\n",
       "      <td>9</td>\n",
       "      <td>545</td>\n",
       "    </tr>\n",
       "    <tr>\n",
       "      <th>2</th>\n",
       "      <td>10</td>\n",
       "      <td>577</td>\n",
       "    </tr>\n",
       "    <tr>\n",
       "      <th>3</th>\n",
       "      <td>11</td>\n",
       "      <td>527</td>\n",
       "    </tr>\n",
       "    <tr>\n",
       "      <th>4</th>\n",
       "      <td>12</td>\n",
       "      <td>117</td>\n",
       "    </tr>\n",
       "    <tr>\n",
       "      <th>5</th>\n",
       "      <td>13</td>\n",
       "      <td>95</td>\n",
       "    </tr>\n",
       "    <tr>\n",
       "      <th>6</th>\n",
       "      <td>14</td>\n",
       "      <td>125</td>\n",
       "    </tr>\n",
       "    <tr>\n",
       "      <th>7</th>\n",
       "      <td>15</td>\n",
       "      <td>118</td>\n",
       "    </tr>\n",
       "    <tr>\n",
       "      <th>8</th>\n",
       "      <td>16</td>\n",
       "      <td>113</td>\n",
       "    </tr>\n",
       "    <tr>\n",
       "      <th>9</th>\n",
       "      <td>17</td>\n",
       "      <td>84</td>\n",
       "    </tr>\n",
       "    <tr>\n",
       "      <th>10</th>\n",
       "      <td>18</td>\n",
       "      <td>78</td>\n",
       "    </tr>\n",
       "    <tr>\n",
       "      <th>11</th>\n",
       "      <td>19</td>\n",
       "      <td>88</td>\n",
       "    </tr>\n",
       "  </tbody>\n",
       "</table>\n",
       "</div>"
      ],
      "text/plain": [
       "    hour  converted\n",
       "0      8        137\n",
       "1      9        545\n",
       "2     10        577\n",
       "3     11        527\n",
       "4     12        117\n",
       "5     13         95\n",
       "6     14        125\n",
       "7     15        118\n",
       "8     16        113\n",
       "9     17         84\n",
       "10    18         78\n",
       "11    19         88"
      ]
     },
     "execution_count": 220,
     "metadata": {},
     "output_type": "execute_result"
    }
   ],
   "source": [
    "df.groupby('hour', as_index=False).converted.sum()"
   ]
  },
  {
   "cell_type": "markdown",
   "id": "cdadebb5",
   "metadata": {},
   "source": [
    "Between 9am and 11am is the peak time for mail delivery,and these times have higher conversion rates of 545,577 and 527 respectively. While 18 pm and 19pm are the lowest period of Email delivery, these times are also low conversion rates of 78,88.\n",
    "\n",
    "Therefore,the correlation between Email send out time and conversion rate may be relatively high."
   ]
  },
  {
   "cell_type": "code",
   "execution_count": 221,
   "id": "88704131",
   "metadata": {},
   "outputs": [
    {
     "data": {
      "text/plain": [
       "<seaborn.axisgrid.FacetGrid at 0x207e4e2e880>"
      ]
     },
     "execution_count": 221,
     "metadata": {},
     "output_type": "execute_result"
    },
    {
     "data": {
      "image/png": "[encoded data removed]",
      "text/plain": [
       "<Figure size 585.472x500 with 1 Axes>"
      ]
     },
     "metadata": {},
     "output_type": "display_data"
    }
   ],
   "source": [
    "#ralte to day of week?\n",
    "# plot and count number of customer in day of week\n",
    "# 0: 'Monday', 1: 'Tuesday', 2: 'Wednesday', 3: 'Thursday', 4: 'Friday'\n",
    "\n",
    "week_count= sns.catplot(x='dayofweek', kind='count',hue = 'converted',palette='Spectral', data=df)\n",
    "\n",
    "# add label and title\n",
    "week_count.set(xlabel = 'Day of Week', ylabel = 'Number of service Email sent out by day',title = 'Number of Service Email Sent Out in Day of Week')"
   ]
  },
  {
   "cell_type": "code",
   "execution_count": 222,
   "id": "467b51d2",
   "metadata": {},
   "outputs": [
    {
     "data": {
      "text/html": [
       "<div>\n",
       "<style scoped>\n",
       "    .dataframe tbody tr th:only-of-type {\n",
       "        vertical-align: middle;\n",
       "    }\n",
       "\n",
       "    .dataframe tbody tr th {\n",
       "        vertical-align: top;\n",
       "    }\n",
       "\n",
       "    .dataframe thead th {\n",
       "        text-align: right;\n",
       "    }\n",
       "</style>\n",
       "<table border=\"1\" class=\"dataframe\">\n",
       "  <thead>\n",
       "    <tr style=\"text-align: right;\">\n",
       "      <th></th>\n",
       "      <th>dayofweek</th>\n",
       "      <th>converted</th>\n",
       "    </tr>\n",
       "  </thead>\n",
       "  <tbody>\n",
       "    <tr>\n",
       "      <th>0</th>\n",
       "      <td>0</td>\n",
       "      <td>267</td>\n",
       "    </tr>\n",
       "    <tr>\n",
       "      <th>1</th>\n",
       "      <td>1</td>\n",
       "      <td>601</td>\n",
       "    </tr>\n",
       "    <tr>\n",
       "      <th>2</th>\n",
       "      <td>2</td>\n",
       "      <td>571</td>\n",
       "    </tr>\n",
       "    <tr>\n",
       "      <th>3</th>\n",
       "      <td>3</td>\n",
       "      <td>625</td>\n",
       "    </tr>\n",
       "    <tr>\n",
       "      <th>4</th>\n",
       "      <td>4</td>\n",
       "      <td>540</td>\n",
       "    </tr>\n",
       "  </tbody>\n",
       "</table>\n",
       "</div>"
      ],
      "text/plain": [
       "   dayofweek  converted\n",
       "0          0        267\n",
       "1          1        601\n",
       "2          2        571\n",
       "3          3        625\n",
       "4          4        540"
      ]
     },
     "execution_count": 222,
     "metadata": {},
     "output_type": "execute_result"
    }
   ],
   "source": [
    "df.groupby('dayofweek', as_index=False).converted.sum()\n",
    "plit(show)"
   ]
  },
  {
   "cell_type": "markdown",
   "id": "ad572750",
   "metadata": {},
   "source": [
    "The number of Emails sent out from Tuesday to Friday is almost about 25,000, and on Monday it is only about 10,000. The conversion values from Tuesday to Friday were similar too at 601,571,625 and 527 respectively. Monday's conversion value was 267.But thursday's conversion rate was 2.5%, which was close to monday's conversion rate of 2.7%, about 0.2% lower.\n",
    "\n",
    "Therefore,the conversion rate may have a strong relationship with the total number of emails sent out. Choose to send emails on weekdays to get higher click-through rates and conversion rates."
   ]
  }
 ],
 "metadata": {
  "kernelspec": {
   "display_name": "Python 3 (ipykernel)",
   "language": "python",
   "name": "python3"
  },
  "language_info": {
   "codemirror_mode": {
    "name": "ipython",
    "version": 3
   },
   "file_extension": ".py",
   "mimetype": "text/x-python",
   "name": "python",
   "nbconvert_exporter": "python",
   "pygments_lexer": "ipython3",
   "version": "3.9.13"
  }
 },
 "nbformat": 4,
 "nbformat_minor": 5
}
